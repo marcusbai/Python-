{
 "cells": [
  {
   "cell_type": "markdown",
   "metadata": {},
   "source": [
    "1、字典简介"
   ]
  },
  {
   "cell_type": "code",
   "execution_count": 2,
   "metadata": {},
   "outputs": [
    {
     "name": "stdout",
     "output_type": "stream",
     "text": [
      "{'八佰': '27.74亿', '花木兰': '2.12亿', '信条': '3.84亿', '死无对证': '470.38万', '蓝色防线': '305.85万', '1/2的魔法': '6212.64万', '麦路人': '492.39万', '秀美人生': '905.11万'}\n"
     ]
    }
   ],
   "source": [
    "票房 = {'八佰':'27.74亿',\n",
    "        '花木兰':'2.12亿',\n",
    "        '信条':'3.84亿', \n",
    "        '死无对证':'470.38万', \n",
    "        '蓝色防线':'305.85万',\n",
    "        '1/2的魔法':'6212.64万',\n",
    "    \t'麦路人':'492.39万',\n",
    "        '秀美人生':'905.11万'}\n",
    "print(票房)"
   ]
  },
  {
   "cell_type": "code",
   "execution_count": 4,
   "metadata": {},
   "outputs": [
    {
     "name": "stdout",
     "output_type": "stream",
     "text": [
      "{'八佰': '27.74亿', '花木兰': '2.12亿', '信条': '3.84亿', '死无对证': '470.38万', '蓝色防线': '305.85万', '1/2的魔法': '6212.64万', '麦路人': '492.39万', '秀美人生': '1000万'}\n"
     ]
    }
   ],
   "source": [
    "票房 = {'八佰':'27.74亿',\n",
    "        '花木兰':'2.12亿',\n",
    "        '信条':'3.84亿', \n",
    "        '死无对证':'470.38万', \n",
    "        '蓝色防线':'305.85万',\n",
    "        '1/2的魔法':'6212.64万',\n",
    "        '麦路人':'492.39万',\n",
    "        '秀美人生':'905.11万',\n",
    "        '秀美人生':'1000万'}\n",
    "print(票房)"
   ]
  },
  {
   "cell_type": "code",
   "execution_count": 15,
   "metadata": {},
   "outputs": [
    {
     "name": "stdout",
     "output_type": "stream",
     "text": [
      "{'姓名': '杨过', '绰号': '神雕大侠'}\n",
      "{'姓名': '杨过', '绰号': '神雕大侠', '门派': '古墓派'}\n"
     ]
    }
   ],
   "source": [
    "a = {'姓名':'杨过','绰号':'神雕大侠'}\n",
    "print(a)\n",
    "a['门派'] = '古墓派'\n",
    "print(a)"
   ]
  },
  {
   "cell_type": "code",
   "execution_count": 16,
   "metadata": {},
   "outputs": [
    {
     "name": "stdout",
     "output_type": "stream",
     "text": [
      "{'姓名': '杨过', '绰号': '神雕大侠', '门派': '全真教'}\n"
     ]
    }
   ],
   "source": [
    "a = {'姓名': '杨过', '绰号': '神雕大侠', '门派': '古墓派'}\n",
    "a['门派'] = '全真教'\n",
    "print(a)"
   ]
  },
  {
   "cell_type": "code",
   "execution_count": 17,
   "metadata": {},
   "outputs": [
    {
     "data": {
      "text/plain": [
       "'神雕大侠'"
      ]
     },
     "execution_count": 17,
     "metadata": {},
     "output_type": "execute_result"
    }
   ],
   "source": [
    "a = {'姓名': '杨过', '绰号': '神雕大侠', '门派': '古墓派'}\n",
    "a['绰号']"
   ]
  },
  {
   "cell_type": "code",
   "execution_count": 19,
   "metadata": {},
   "outputs": [
    {
     "name": "stdout",
     "output_type": "stream",
     "text": [
      "{'姓名': '杨过', '绰号': '神雕大侠'}\n"
     ]
    }
   ],
   "source": [
    "a = {'姓名': '杨过', '绰号': '神雕大侠', '门派': '古墓派'}\n",
    "del a['门派']\n",
    "print(a)"
   ]
  },
  {
   "cell_type": "code",
   "execution_count": 25,
   "metadata": {},
   "outputs": [
    {
     "name": "stdout",
     "output_type": "stream",
     "text": [
      "他的姓名是杨过\n",
      "他的绰号是神雕大侠\n",
      "他的门派是古墓派\n"
     ]
    }
   ],
   "source": [
    "a = {'姓名':'杨过', '绰号':'神雕大侠', '门派':'古墓派'}\n",
    "for k,v in a.items(): # k,v可以随意定义\n",
    "    print(f'他的{k}是{v}')"
   ]
  },
  {
   "cell_type": "code",
   "execution_count": 26,
   "metadata": {},
   "outputs": [
    {
     "name": "stdout",
     "output_type": "stream",
     "text": [
      "他有姓名\n",
      "他有绰号\n",
      "他有门派\n"
     ]
    }
   ],
   "source": [
    "a = {'姓名':'杨过', '绰号':'神雕大侠', '门派':'古墓派'}\n",
    "for k in a.keys(): \n",
    "    print(f'他有{k}')"
   ]
  },
  {
   "cell_type": "code",
   "execution_count": 28,
   "metadata": {},
   "outputs": [
    {
     "name": "stdout",
     "output_type": "stream",
     "text": [
      "杨过\n",
      "神雕大侠\n",
      "古墓派\n"
     ]
    }
   ],
   "source": [
    "a = {'姓名':'杨过', '绰号':'神雕大侠', '门派':'古墓派'}\n",
    "for v in a.values(): \n",
    "    print(f'{v}')"
   ]
  },
  {
   "cell_type": "code",
   "execution_count": 29,
   "metadata": {},
   "outputs": [
    {
     "data": {
      "text/plain": [
       "set"
      ]
     },
     "execution_count": 29,
     "metadata": {},
     "output_type": "execute_result"
    }
   ],
   "source": [
    "a = {'姓名', '绰号', '门派'}\n",
    "type(a)"
   ]
  },
  {
   "cell_type": "code",
   "execution_count": 31,
   "metadata": {},
   "outputs": [
    {
     "data": {
      "text/plain": [
       "set"
      ]
     },
     "execution_count": 31,
     "metadata": {},
     "output_type": "execute_result"
    }
   ],
   "source": [
    "a = set() # 空集合\n",
    "type(a)"
   ]
  },
  {
   "cell_type": "code",
   "execution_count": 40,
   "metadata": {},
   "outputs": [
    {
     "data": {
      "text/plain": [
       "{'a', 'b', 'c', 'd', 'e', 'f', 'g', 'h', 'i', 'j', 'k'}"
      ]
     },
     "execution_count": 40,
     "metadata": {},
     "output_type": "execute_result"
    }
   ],
   "source": [
    "set1 = {'a','b','c','d','e','f','g','e','f','g','h','i','j','k'}\n",
    "set1"
   ]
  },
  {
   "cell_type": "code",
   "execution_count": 34,
   "metadata": {},
   "outputs": [
    {
     "name": "stdout",
     "output_type": "stream",
     "text": [
      "2\n"
     ]
    }
   ],
   "source": [
    "a = 1\n",
    "b = 1\n",
    "print(a+b) # 数据类型输出为2"
   ]
  },
  {
   "cell_type": "code",
   "execution_count": 35,
   "metadata": {},
   "outputs": [
    {
     "name": "stdout",
     "output_type": "stream",
     "text": [
      "11\n"
     ]
    }
   ],
   "source": [
    "a = '1'\n",
    "b = '1'\n",
    "print(a+b) # 字符类型输出11"
   ]
  },
  {
   "cell_type": "code",
   "execution_count": 36,
   "metadata": {},
   "outputs": [
    {
     "data": {
      "text/plain": [
       "str"
      ]
     },
     "execution_count": 36,
     "metadata": {},
     "output_type": "execute_result"
    }
   ],
   "source": [
    "a = '我是来自古墓派的杨过'\n",
    "type(a)"
   ]
  },
  {
   "cell_type": "code",
   "execution_count": 38,
   "metadata": {},
   "outputs": [
    {
     "name": "stdout",
     "output_type": "stream",
     "text": [
      "<class 'list'>\n",
      "['我', '是', '来', '自', '古', '墓', '派', '的', ',', '我', '叫', '杨', '过']\n"
     ]
    }
   ],
   "source": [
    "a = '我是来自古墓派的,我叫杨过'\n",
    "b = list(a)\n",
    "print(type(b))\n",
    "print(b)"
   ]
  },
  {
   "cell_type": "code",
   "execution_count": null,
   "metadata": {},
   "outputs": [],
   "source": [
    "a = ('杨过')"
   ]
  }
 ],
 "metadata": {
  "kernelspec": {
   "display_name": "Python 3",
   "language": "python",
   "name": "python3"
  },
  "language_info": {
   "codemirror_mode": {
    "name": "ipython",
    "version": 3
   },
   "file_extension": ".py",
   "mimetype": "text/x-python",
   "name": "python",
   "nbconvert_exporter": "python",
   "pygments_lexer": "ipython3",
   "version": "3.8.5"
  }
 },
 "nbformat": 4,
 "nbformat_minor": 4
}
