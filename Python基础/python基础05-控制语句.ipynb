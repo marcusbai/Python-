{
 "cells": [
  {
   "cell_type": "markdown",
   "metadata": {},
   "source": [
    "简单IF语句"
   ]
  },
  {
   "cell_type": "code",
   "execution_count": 2,
   "metadata": {},
   "outputs": [
    {
     "name": "stdin",
     "output_type": "stream",
     "text": [
      "请输入你的考试成绩： 50\n"
     ]
    },
    {
     "name": "stdout",
     "output_type": "stream",
     "text": [
      "继续加油！！\n"
     ]
    }
   ],
   "source": [
    "Scores = input('请输入你的考试成绩：') # 将用户输入赋值给变量\n",
    "\n",
    "if int(Scores) >= 60: # 当分数大于的等于60输出'恭喜你考试合格'\n",
    "    print('恭喜你考试合格')\n",
    "\n",
    "print('继续加油！！') # 不论是否及格，都会输出此句"
   ]
  },
  {
   "cell_type": "markdown",
   "metadata": {},
   "source": [
    "if…else语句"
   ]
  },
  {
   "cell_type": "code",
   "execution_count": 6,
   "metadata": {},
   "outputs": [
    {
     "name": "stdin",
     "output_type": "stream",
     "text": [
      "请输入你的考试成绩： 59\n"
     ]
    },
    {
     "name": "stdout",
     "output_type": "stream",
     "text": [
      "很遗憾，你本次考试不及格\n",
      "继续加油！！\n"
     ]
    }
   ],
   "source": [
    "Scores = input('请输入你的考试成绩：') # 将用户输入赋值给变量\n",
    "\n",
    "if int(Scores) >= 60: # 当分数大于的等于60输出'恭喜你考试合格'\n",
    "    print('恭喜你考试合格')\n",
    "else: # 当分数小于60提示不及格\n",
    "    print('很遗憾，你本次考试不及格')\n",
    "    \n",
    "print('继续加油！！') # 不论是否及格，都会输出此句"
   ]
  },
  {
   "cell_type": "markdown",
   "metadata": {},
   "source": [
    "if…elif…else语句"
   ]
  },
  {
   "cell_type": "code",
   "execution_count": 10,
   "metadata": {},
   "outputs": [
    {
     "name": "stdin",
     "output_type": "stream",
     "text": [
      "请输入你的考试成绩： 59\n"
     ]
    },
    {
     "name": "stdout",
     "output_type": "stream",
     "text": [
      "很遗憾，你本次考试不及格\n",
      "继续加油！！\n"
     ]
    }
   ],
   "source": [
    "Scores = input('请输入你的考试成绩：') \n",
    "if int(Scores) >= 90:\n",
    "    print('恭喜你取得等级A')\n",
    "elif int(Scores) >= 80:\n",
    "    print('恭喜你取得等级B')\n",
    "elif int(Scores) >= 70:\n",
    "    print('恭喜你取得等级C')\n",
    "elif int(Scores) >= 60:\n",
    "    print('恭喜你取得等级D')\n",
    "else:\n",
    "    print('很遗憾，你本次考试不及格')\n",
    "    \n",
    "print('继续加油！！')"
   ]
  },
  {
   "cell_type": "code",
   "execution_count": 16,
   "metadata": {},
   "outputs": [
    {
     "name": "stdout",
     "output_type": "stream",
     "text": [
      "我遇到了村民\n",
      "我遇到了狼人，没打过，游戏结束\n"
     ]
    }
   ],
   "source": [
    "角色列表 = ['村民','狼人', '预言家','女巫' ,'猎人' ,'丘比特']\n",
    "for 角色 in 角色列表:\n",
    "    if 角色 == '狼人':\n",
    "        print('我遇到了狼人，没打过，游戏结束')\n",
    "        break\n",
    "    print(f'我遇到了{角色}')"
   ]
  },
  {
   "cell_type": "code",
   "execution_count": 17,
   "metadata": {},
   "outputs": [
    {
     "name": "stdout",
     "output_type": "stream",
     "text": [
      "我遇到了村民\n",
      "我遇到了狼人，我打赢了，继续前进\n",
      "我遇到了预言家\n",
      "我遇到了女巫\n",
      "我遇到了猎人\n",
      "我遇到了丘比特\n"
     ]
    }
   ],
   "source": [
    "角色列表 = ['村民','狼人', '预言家','女巫' ,'猎人' ,'丘比特']\n",
    "for 角色 in 角色列表:\n",
    "    if 角色 == '狼人':\n",
    "        print('我遇到了狼人，我打赢了，继续前进')\n",
    "        continue\n",
    "    print(f'我遇到了{角色}')"
   ]
  },
  {
   "cell_type": "code",
   "execution_count": 29,
   "metadata": {},
   "outputs": [
    {
     "name": "stdout",
     "output_type": "stream",
     "text": [
      "5050\n"
     ]
    }
   ],
   "source": [
    "i = 1\n",
    "sum = 0\n",
    "while i <=100:\n",
    "    sum = sum + i\n",
    "    i = i + 1\n",
    "print(sum)"
   ]
  },
  {
   "cell_type": "code",
   "execution_count": 32,
   "metadata": {},
   "outputs": [
    {
     "name": "stdout",
     "output_type": "stream",
     "text": [
      "2550\n"
     ]
    }
   ],
   "source": [
    "i = 1\n",
    "sum = 0\n",
    "while i <=100:\n",
    "    if i%2==0:\n",
    "        sum = sum + i\n",
    "    i = i + 1\n",
    "print(sum)"
   ]
  },
  {
   "cell_type": "code",
   "execution_count": null,
   "metadata": {},
   "outputs": [],
   "source": []
  }
 ],
 "metadata": {
  "kernelspec": {
   "display_name": "Python 3",
   "language": "python",
   "name": "python3"
  },
  "language_info": {
   "codemirror_mode": {
    "name": "ipython",
    "version": 3
   },
   "file_extension": ".py",
   "mimetype": "text/x-python",
   "name": "python",
   "nbconvert_exporter": "python",
   "pygments_lexer": "ipython3",
   "version": "3.8.5"
  }
 },
 "nbformat": 4,
 "nbformat_minor": 4
}
