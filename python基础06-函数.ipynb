{
 "cells": [
  {
   "cell_type": "markdown",
   "metadata": {},
   "source": [
    "定义一个函数"
   ]
  },
  {
   "cell_type": "code",
   "execution_count": 16,
   "metadata": {},
   "outputs": [],
   "source": [
    "def 问好():\n",
    "    '''进行问好，输出你好'''\n",
    "    print('你好')"
   ]
  },
  {
   "cell_type": "code",
   "execution_count": 3,
   "metadata": {},
   "outputs": [
    {
     "name": "stdout",
     "output_type": "stream",
     "text": [
      "你好\n"
     ]
    }
   ],
   "source": [
    "问好()"
   ]
  },
  {
   "cell_type": "code",
   "execution_count": 11,
   "metadata": {},
   "outputs": [],
   "source": [
    "def 问好(姓名):\n",
    "    '''进行问好，输出你好，指定的姓名'''\n",
    "    print('你好',姓名)"
   ]
  },
  {
   "cell_type": "code",
   "execution_count": 14,
   "metadata": {},
   "outputs": [
    {
     "name": "stdout",
     "output_type": "stream",
     "text": [
      "你好 令狐冲\n"
     ]
    }
   ],
   "source": [
    "问好('令狐冲')"
   ]
  },
  {
   "cell_type": "markdown",
   "metadata": {},
   "source": [
    "函数的参数"
   ]
  },
  {
   "cell_type": "code",
   "execution_count": 24,
   "metadata": {},
   "outputs": [],
   "source": [
    "def 自我介绍(姓名,门派):\n",
    "    '''进行自我介绍'''\n",
    "    print(f'大家好，我是{姓名},我来自{门派}')"
   ]
  },
  {
   "cell_type": "code",
   "execution_count": 26,
   "metadata": {},
   "outputs": [
    {
     "name": "stdout",
     "output_type": "stream",
     "text": [
      "大家好，我是令狐冲,我来自恒山派\n",
      "大家好，我是任盈盈,我来自日月神教\n"
     ]
    }
   ],
   "source": [
    "自我介绍('令狐冲','恒山派')\n",
    "自我介绍('任盈盈','日月神教')"
   ]
  },
  {
   "cell_type": "code",
   "execution_count": 27,
   "metadata": {},
   "outputs": [
    {
     "name": "stdout",
     "output_type": "stream",
     "text": [
      "大家好，我是恒山派,我来自田伯光\n"
     ]
    }
   ],
   "source": [
    "自我介绍('恒山派','田伯光')"
   ]
  },
  {
   "cell_type": "code",
   "execution_count": 28,
   "metadata": {},
   "outputs": [],
   "source": [
    "def 自我介绍(姓名,门派):\n",
    "    '''进行自我介绍'''\n",
    "    print(f'大家好，我是{姓名},我来自{门派}')"
   ]
  },
  {
   "cell_type": "code",
   "execution_count": 29,
   "metadata": {},
   "outputs": [
    {
     "name": "stdout",
     "output_type": "stream",
     "text": [
      "大家好，我是田伯光,我来自恒山派\n"
     ]
    }
   ],
   "source": [
    "自我介绍(姓名='田伯光',门派='恒山派')"
   ]
  },
  {
   "cell_type": "code",
   "execution_count": 30,
   "metadata": {},
   "outputs": [
    {
     "name": "stdout",
     "output_type": "stream",
     "text": [
      "大家好，我是田伯光,我来自恒山派\n"
     ]
    }
   ],
   "source": [
    "自我介绍(门派='恒山派',姓名='田伯光')"
   ]
  },
  {
   "cell_type": "code",
   "execution_count": 31,
   "metadata": {},
   "outputs": [],
   "source": [
    "def 自我介绍(姓名,门派,性别='帅哥'):\n",
    "    '''进行自我介绍'''\n",
    "    print(f'大家好，我是{姓名},我来自{门派}，是个{性别}')"
   ]
  },
  {
   "cell_type": "code",
   "execution_count": 33,
   "metadata": {},
   "outputs": [
    {
     "name": "stdout",
     "output_type": "stream",
     "text": [
      "大家好，我是岳灵珊,我来自华山派，是个美女\n",
      "大家好，我是林平之,我来自华山派，是个帅哥\n"
     ]
    }
   ],
   "source": [
    "自我介绍('岳灵珊','华山派',性别='美女')\n",
    "自我介绍('林平之','华山派')"
   ]
  },
  {
   "cell_type": "code",
   "execution_count": 38,
   "metadata": {},
   "outputs": [],
   "source": [
    "def 自我介绍(姓名,门派,*武功):\n",
    "    '''进行自我介绍'''\n",
    "    print(f'大家好，我是{姓名},我来自{门派}，我的武功有{武功}')"
   ]
  },
  {
   "cell_type": "code",
   "execution_count": 39,
   "metadata": {},
   "outputs": [
    {
     "name": "stdout",
     "output_type": "stream",
     "text": [
      "大家好，我是令狐冲,我来自恒山派，我的武功有('华山剑法', '嵩山剑法', '泰山剑法', '衡山剑法', '恒山剑法', '太岳三青峰', '冲灵剑法', '独孤九剑')\n"
     ]
    }
   ],
   "source": [
    "自我介绍('令狐冲','恒山派',\n",
    "     '华山剑法','嵩山剑法','泰山剑法',\n",
    "     '衡山剑法','恒山剑法','太岳三青峰',\n",
    "     '冲灵剑法','独孤九剑')"
   ]
  },
  {
   "cell_type": "code",
   "execution_count": 40,
   "metadata": {},
   "outputs": [],
   "source": [
    "def 自我介绍(姓名,门派,**武功):\n",
    "    '''进行自我介绍'''\n",
    "    print(f'大家好，我是{姓名},我来自{门派}，我的武功有{武功}')"
   ]
  },
  {
   "cell_type": "code",
   "execution_count": 41,
   "metadata": {},
   "outputs": [
    {
     "name": "stdout",
     "output_type": "stream",
     "text": [
      "大家好，我是令狐冲,我来自恒山派，我的武功有{'内功': '吸星大法', '绝技': '独孤九剑'}\n"
     ]
    }
   ],
   "source": [
    "自我介绍('令狐冲','恒山派',内功='吸星大法',绝技='独孤九剑')"
   ]
  },
  {
   "cell_type": "markdown",
   "metadata": {},
   "source": [
    "pass语句和return语句"
   ]
  },
  {
   "cell_type": "code",
   "execution_count": 1,
   "metadata": {},
   "outputs": [],
   "source": [
    "def 自我介绍(姓名,门派,**武功):\n",
    "    '''进行自我介绍'''\n",
    "    pass\n",
    "    #print(f'大家好，我是{姓名},我来自{门派}，我的武功有{武功}')"
   ]
  },
  {
   "cell_type": "code",
   "execution_count": 2,
   "metadata": {},
   "outputs": [],
   "source": [
    "自我介绍('令狐冲','恒山派')"
   ]
  },
  {
   "cell_type": "code",
   "execution_count": 15,
   "metadata": {},
   "outputs": [],
   "source": [
    "def sum1(a,b):\n",
    "    '''对a,b求和'''\n",
    "    c = a + b\n",
    "    return c"
   ]
  },
  {
   "cell_type": "code",
   "execution_count": 16,
   "metadata": {},
   "outputs": [
    {
     "data": {
      "text/plain": [
       "4"
      ]
     },
     "execution_count": 16,
     "metadata": {},
     "output_type": "execute_result"
    }
   ],
   "source": [
    "sum1(1,3)"
   ]
  },
  {
   "cell_type": "markdown",
   "metadata": {},
   "source": [
    "局部变量与全局变量"
   ]
  },
  {
   "cell_type": "code",
   "execution_count": 37,
   "metadata": {},
   "outputs": [],
   "source": [
    "n='我在为外面'\n",
    "def m():\n",
    "    n='我在里面'\n",
    "    print(n)"
   ]
  },
  {
   "cell_type": "code",
   "execution_count": 38,
   "metadata": {},
   "outputs": [
    {
     "name": "stdout",
     "output_type": "stream",
     "text": [
      "我在里面\n"
     ]
    }
   ],
   "source": [
    "m()"
   ]
  },
  {
   "cell_type": "code",
   "execution_count": 39,
   "metadata": {},
   "outputs": [
    {
     "data": {
      "text/plain": [
       "'我在为外面'"
      ]
     },
     "execution_count": 39,
     "metadata": {},
     "output_type": "execute_result"
    }
   ],
   "source": [
    "n"
   ]
  },
  {
   "cell_type": "code",
   "execution_count": 42,
   "metadata": {},
   "outputs": [],
   "source": [
    "n='我在为外面'\n",
    "def m():\n",
    "    global n\n",
    "    n='我在里面'\n",
    "    print(n)"
   ]
  },
  {
   "cell_type": "code",
   "execution_count": 43,
   "metadata": {},
   "outputs": [
    {
     "name": "stdout",
     "output_type": "stream",
     "text": [
      "我在里面\n"
     ]
    }
   ],
   "source": [
    "m()"
   ]
  },
  {
   "cell_type": "code",
   "execution_count": 44,
   "metadata": {},
   "outputs": [
    {
     "data": {
      "text/plain": [
       "'我在里面'"
      ]
     },
     "execution_count": 44,
     "metadata": {},
     "output_type": "execute_result"
    }
   ],
   "source": [
    "n"
   ]
  },
  {
   "cell_type": "code",
   "execution_count": null,
   "metadata": {},
   "outputs": [],
   "source": []
  },
  {
   "cell_type": "code",
   "execution_count": null,
   "metadata": {},
   "outputs": [],
   "source": []
  }
 ],
 "metadata": {
  "kernelspec": {
   "display_name": "Python 3",
   "language": "python",
   "name": "python3"
  },
  "language_info": {
   "codemirror_mode": {
    "name": "ipython",
    "version": 3
   },
   "file_extension": ".py",
   "mimetype": "text/x-python",
   "name": "python",
   "nbconvert_exporter": "python",
   "pygments_lexer": "ipython3",
   "version": "3.8.5"
  }
 },
 "nbformat": 4,
 "nbformat_minor": 4
}
