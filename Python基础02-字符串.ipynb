{
 "cells": [
  {
   "cell_type": "markdown",
   "metadata": {},
   "source": [
    "一、字符串的基础"
   ]
  },
  {
   "cell_type": "code",
   "execution_count": 31,
   "metadata": {},
   "outputs": [
    {
     "name": "stdout",
     "output_type": "stream",
     "text": [
      "我是单引号字符串\n",
      "我是双引号字符串\n",
      "我是三单引号字符串\n",
      "我是三双引号字符串\n",
      "\n",
      "                            _ooOoo_\n",
      "                           o8888888o\n",
      "                           88\" . \"88\n",
      "                           (| -_- |)\n",
      "                           O\\  =  /O\n",
      "                        ____/`---'\\____\n",
      "                      .'  \\|     |//  `.\n",
      "                     /  \\|||  :  |||//  \\ \n",
      "                    /  _||||| -:- |||||_  \\ \n",
      "                    |    | \\\\  -  /// |   | \n",
      "                    | \\_|  ''\\---/''  |   |\n",
      "                    \\  .-\\__  `-`  ___/-. /\n",
      "                  ___`. .'  /--.--\\  `. . __\n",
      "               .\"\" '<  `.___\\_<|>_/___.'  >'\"\".\n",
      "              | | :  `- \\`.;`\\ _ /`;.`/ - ` : | |\n",
      "              \\  \\ `-.   \\_ __\\ /__ _/   .-` /  /\n",
      "         ======`-.____`-.___\\_____/___.-`____.-'======\n",
      "                            `=---='\n",
      "         ^^^^^^^^^^^^^^^^^^^^^^^^^^^^^^^^^^^^^^^^^^^^^\n",
      "                     佛祖保佑       永无BUG\n",
      "\n"
     ]
    }
   ],
   "source": [
    "# 字符串输出\n",
    "str1 = '我是单引号字符串'\n",
    "str2 = \"我是双引号字符串\"\n",
    "str3 = '''我是三单引号字符串'''\n",
    "str4 = \"\"\"我是三双引号字符串\"\"\"\n",
    "str5 = \"\"\"\n",
    "                            _ooOoo_\n",
    "                           o8888888o\n",
    "                           88\" . \"88\n",
    "                           (| -_- |)\n",
    "                           O\\  =  /O\n",
    "                        ____/`---'\\____\n",
    "                      .'  \\\\|     |//  `.\n",
    "                     /  \\\\|||  :  |||//  \\ \n",
    "                    /  _||||| -:- |||||_  \\ \n",
    "                    |    | \\\\\\  -  /// |   | \n",
    "                    | \\_|  ''\\---/''  |   |\n",
    "                    \\  .-\\__  `-`  ___/-. /\n",
    "                  ___`. .'  /--.--\\  `. . __\n",
    "               .\"\" '<  `.___\\_<|>_/___.'  >'\"\".\n",
    "              | | :  `- \\`.;`\\ _ /`;.`/ - ` : | |\n",
    "              \\  \\ `-.   \\_ __\\ /__ _/   .-` /  /\n",
    "         ======`-.____`-.___\\_____/___.-`____.-'======\n",
    "                            `=---='\n",
    "         ^^^^^^^^^^^^^^^^^^^^^^^^^^^^^^^^^^^^^^^^^^^^^\n",
    "                     佛祖保佑       永无BUG\n",
    "\"\"\"\n",
    "print(str1)\n",
    "print(str2)\n",
    "print(str3)\n",
    "print(str4)\n",
    "print(str5)"
   ]
  },
  {
   "cell_type": "markdown",
   "metadata": {},
   "source": [
    "二、转义字符和原始字符串"
   ]
  },
  {
   "cell_type": "code",
   "execution_count": 46,
   "metadata": {},
   "outputs": [
    {
     "name": "stdout",
     "output_type": "stream",
     "text": [
      "doesn't\n",
      "\"Isn't,\" they said.\n"
     ]
    }
   ],
   "source": [
    "# 转义后，输出正常\n",
    "str1 = 'doesn\\'t'\n",
    "str2 = '\"Isn\\'t,\" they said.'\n",
    "print(str1)\n",
    "print(str2)"
   ]
  },
  {
   "cell_type": "code",
   "execution_count": 55,
   "metadata": {},
   "outputs": [
    {
     "name": "stdout",
     "output_type": "stream",
     "text": [
      "C:\\some\n",
      "ame\n",
      "C:\\some\\name\n",
      "C:\\some\\name\n"
     ]
    }
   ],
   "source": [
    "path1 = 'C:\\some\\name' # 原路径（字符串），会输出错误\n",
    "path2 = 'C:\\some\\\\name' # 使用反斜杠转义\n",
    "path3 = r'C:\\some\\name' # 使用\n",
    "print(path1)\n",
    "print(path2)\n",
    "print(path3)"
   ]
  },
  {
   "cell_type": "markdown",
   "metadata": {},
   "source": [
    "三、字符串的连接和重复"
   ]
  },
  {
   "cell_type": "code",
   "execution_count": 56,
   "metadata": {},
   "outputs": [
    {
     "data": {
      "text/plain": [
       "'我饿了我要吃火锅'"
      ]
     },
     "execution_count": 56,
     "metadata": {},
     "output_type": "execute_result"
    }
   ],
   "source": [
    "# 用加号拼接字符串\n",
    "a = '我饿了'\n",
    "b = '我要吃火锅'\n",
    "a + b"
   ]
  },
  {
   "cell_type": "code",
   "execution_count": 60,
   "metadata": {},
   "outputs": [
    {
     "data": {
      "text/plain": [
       "'===============这里是分割线==============='"
      ]
     },
     "execution_count": 60,
     "metadata": {},
     "output_type": "execute_result"
    }
   ],
   "source": [
    "# 用乘号重复字符串\n",
    "a = '这里是分割线'\n",
    "b = '=' # 请注意，此处等号是字符\n",
    "b*15 +a + b*15 #输出前后十五个等号的分割线"
   ]
  },
  {
   "cell_type": "markdown",
   "metadata": {},
   "source": [
    "四、字符串的索引"
   ]
  },
  {
   "cell_type": "code",
   "execution_count": 64,
   "metadata": {},
   "outputs": [
    {
     "data": {
      "text/plain": [
       "'o'"
      ]
     },
     "execution_count": 64,
     "metadata": {},
     "output_type": "execute_result"
    }
   ],
   "source": [
    "word = 'Python'\n",
    "word[0] # 输出P\n",
    "word[-2] # 输出o\n",
    "#word[10] # 报错"
   ]
  },
  {
   "cell_type": "markdown",
   "metadata": {},
   "source": [
    "五、字符串的切片"
   ]
  },
  {
   "cell_type": "code",
   "execution_count": 65,
   "metadata": {},
   "outputs": [
    {
     "data": {
      "text/plain": [
       "'noh'"
      ]
     },
     "execution_count": 65,
     "metadata": {},
     "output_type": "execute_result"
    }
   ],
   "source": [
    "word = 'Python'\n",
    "word[:] # 获取全部\n",
    "word[1:] # 获取偏移量为1到结束的字符串\n",
    "word[:3] # 获取偏移量为零到偏移量为2的字符串\n",
    "word[:-1] # 获取偏移量为零但是不包括最后一个元素的字符串\n",
    "word[1:3] # 获取偏移量为1，2的字符串\n",
    "word[1:100] # 超过字符长度，会获取到字符串结束\n",
    "word[1::2] # 获取从偏移量为1到结尾，每隔一个的字符\n",
    "word[::2] # 获取从偏移量为零开始，每隔一个的字符\n",
    "word[::-1] # 获取偏移量从零到结尾，反向取值\n",
    "word[5:2:-1] # 获取偏移量5到2（不包括2）的值，反向取值"
   ]
  },
  {
   "cell_type": "markdown",
   "metadata": {},
   "source": [
    "六、字符串的方法"
   ]
  },
  {
   "cell_type": "code",
   "execution_count": 66,
   "metadata": {},
   "outputs": [
    {
     "data": {
      "text/plain": [
       "6"
      ]
     },
     "execution_count": 66,
     "metadata": {},
     "output_type": "execute_result"
    }
   ],
   "source": [
    "s = 'Python'\n",
    "len(s)"
   ]
  },
  {
   "cell_type": "code",
   "execution_count": 67,
   "metadata": {},
   "outputs": [],
   "source": [
    "s = 'hello world'"
   ]
  },
  {
   "cell_type": "code",
   "execution_count": 68,
   "metadata": {},
   "outputs": [
    {
     "data": {
      "text/plain": [
       "'Hello world'"
      ]
     },
     "execution_count": 68,
     "metadata": {},
     "output_type": "execute_result"
    }
   ],
   "source": [
    "s.capitalize()"
   ]
  },
  {
   "cell_type": "code",
   "execution_count": 71,
   "metadata": {},
   "outputs": [
    {
     "data": {
      "text/plain": [
       "'####hello world#####'"
      ]
     },
     "execution_count": 71,
     "metadata": {},
     "output_type": "execute_result"
    }
   ],
   "source": [
    "s.center(20,'#')"
   ]
  },
  {
   "cell_type": "code",
   "execution_count": null,
   "metadata": {},
   "outputs": [],
   "source": []
  }
 ],
 "metadata": {
  "kernelspec": {
   "display_name": "Python 3",
   "language": "python",
   "name": "python3"
  },
  "language_info": {
   "codemirror_mode": {
    "name": "ipython",
    "version": 3
   },
   "file_extension": ".py",
   "mimetype": "text/x-python",
   "name": "python",
   "nbconvert_exporter": "python",
   "pygments_lexer": "ipython3",
   "version": "3.7.6"
  }
 },
 "nbformat": 4,
 "nbformat_minor": 4
}
