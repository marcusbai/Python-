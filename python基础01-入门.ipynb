{
 "cells": [
  {
   "cell_type": "markdown",
   "metadata": {
    "tags": []
   },
   "source": [
    "一、第一行代码print()输出语句"
   ]
  },
  {
   "cell_type": "code",
   "execution_count": 1,
   "metadata": {
    "tags": []
   },
   "outputs": [
    {
     "name": "stdout",
     "output_type": "stream",
     "text": [
      "hello world\n"
     ]
    }
   ],
   "source": [
    "# 输出hello world\n",
    "print('hello world')"
   ]
  },
  {
   "cell_type": "markdown",
   "metadata": {
    "tags": []
   },
   "source": [
    "二、输出语句print()中的sep和end参数及转义字符"
   ]
  },
  {
   "cell_type": "code",
   "execution_count": 2,
   "metadata": {},
   "outputs": [
    {
     "name": "stdout",
     "output_type": "stream",
     "text": [
      "孙悟空 猪八戒\n",
      "孙悟空\n",
      "猪八戒\n"
     ]
    }
   ],
   "source": [
    "# 默认为空格和换行\n",
    "print('孙悟空','猪八戒')\n",
    "print('孙悟空')\n",
    "print('猪八戒')"
   ]
  },
  {
   "cell_type": "code",
   "execution_count": 3,
   "metadata": {
    "tags": []
   },
   "outputs": [
    {
     "name": "stdout",
     "output_type": "stream",
     "text": [
      "孙悟空@猪八戒\n",
      "孙悟空>猪八戒\n"
     ]
    }
   ],
   "source": [
    "# 自定义连接符为@,结束符为>\n",
    "print('孙悟空','猪八戒',sep='@')\n",
    "print('孙悟空',end='>')\n",
    "print('猪八戒')"
   ]
  },
  {
   "cell_type": "code",
   "execution_count": 4,
   "metadata": {},
   "outputs": [
    {
     "name": "stdout",
     "output_type": "stream",
     "text": [
      "孙悟空猪八戒\n",
      "孙悟空孙悟空孙悟空孙悟空孙悟空\n"
     ]
    }
   ],
   "source": [
    "# 通过加号将字符进行连接\n",
    "print('孙悟空'+'猪八戒')\n",
    "# 通过乘号可以进行复制\n",
    "print('孙悟空'*5)"
   ]
  },
  {
   "cell_type": "markdown",
   "metadata": {},
   "source": [
    "三、单行注释与多行注释"
   ]
  },
  {
   "cell_type": "code",
   "execution_count": 5,
   "metadata": {},
   "outputs": [
    {
     "name": "stdout",
     "output_type": "stream",
     "text": [
      "第一行\n",
      "第三行\n"
     ]
    }
   ],
   "source": [
    "# 单行注释\n",
    "print('第一行')\n",
    "#print('第二行')\n",
    "print('第三行')"
   ]
  },
  {
   "cell_type": "code",
   "execution_count": 6,
   "metadata": {},
   "outputs": [
    {
     "name": "stdout",
     "output_type": "stream",
     "text": [
      "开始\n",
      "结束\n"
     ]
    }
   ],
   "source": [
    "# 多行注释\n",
    "print('开始')\n",
    "'''登鹳雀楼\n",
    "作者：王之涣\n",
    "年代：唐\n",
    "白日依山尽，\n",
    "黄河入海流。\n",
    "欲穷千里目，\n",
    "更上一层楼。'''\n",
    "print('结束')"
   ]
  },
  {
   "cell_type": "markdown",
   "metadata": {},
   "source": [
    "四、变量与f格式化字符串"
   ]
  },
  {
   "cell_type": "code",
   "execution_count": 7,
   "metadata": {},
   "outputs": [
    {
     "name": "stdout",
     "output_type": "stream",
     "text": [
      "孙悟空\n",
      "猪八戒\n",
      "沙悟净\n",
      "唐僧\n"
     ]
    }
   ],
   "source": [
    "# 变量命名\n",
    "name = '孙悟空'\n",
    "name1 = '猪八戒'\n",
    "name_1 = '沙悟净'\n",
    "姓名 = '唐僧'\n",
    "print(name)\n",
    "print(name1)\n",
    "print(name_1)\n",
    "print(姓名)"
   ]
  },
  {
   "cell_type": "code",
   "execution_count": 8,
   "metadata": {},
   "outputs": [
    {
     "name": "stdout",
     "output_type": "stream",
     "text": [
      "孙悟空\n",
      "猪八戒\n",
      "沙和尚\n",
      "孙悟空\n",
      "孙悟空\n",
      "孙悟空\n"
     ]
    }
   ],
   "source": [
    "# 多变量赋值一\n",
    "大弟子,二弟子,三弟子='孙悟空','猪八戒','沙和尚'\n",
    "print(大弟子)\n",
    "print(二弟子)\n",
    "print(三弟子)\n",
    "# 多变量赋值二\n",
    "孙行者=者行孙=行者孙='孙悟空'\n",
    "print(孙行者)\n",
    "print(者行孙)\n",
    "print(行者孙)"
   ]
  },
  {
   "cell_type": "code",
   "execution_count": 9,
   "metadata": {},
   "outputs": [
    {
     "name": "stdout",
     "output_type": "stream",
     "text": [
      "1 2\n",
      "2 1\n"
     ]
    }
   ],
   "source": [
    "# 交换变量赋值\n",
    "a = 1\n",
    "b = 2\n",
    "print(a,b)\n",
    "a,b=b,a\n",
    "print(a,b)"
   ]
  },
  {
   "cell_type": "code",
   "execution_count": 10,
   "metadata": {},
   "outputs": [
    {
     "name": "stdout",
     "output_type": "stream",
     "text": [
      "我是孙悟空,我已经10000岁了\n"
     ]
    }
   ],
   "source": [
    "# f'{表达式}'\n",
    "name = '孙悟空'\n",
    "age = 10000\n",
    "print(f'我是{name},我已经{age}岁了')"
   ]
  },
  {
   "cell_type": "markdown",
   "metadata": {},
   "source": [
    "五、获取用户输入"
   ]
  },
  {
   "cell_type": "code",
   "execution_count": 11,
   "metadata": {
    "tags": []
   },
   "outputs": [
    {
     "name": "stdin",
     "output_type": "stream",
     "text": [
      "请输入你的名字： 孙悟空\n",
      "请输入你的年龄： 10000\n"
     ]
    },
    {
     "name": "stdout",
     "output_type": "stream",
     "text": [
      "你输入的名字是孙悟空,你输入的年龄是10000\n"
     ]
    }
   ],
   "source": [
    "# 使用input()获取用户输入\n",
    "name = input('请输入你的名字：')\n",
    "age = input('请输入你的年龄：')\n",
    "print(f'你输入的名字是{name},你输入的年龄是{age}')"
   ]
  },
  {
   "cell_type": "markdown",
   "metadata": {},
   "source": [
    "六、数据类型转换"
   ]
  },
  {
   "cell_type": "code",
   "execution_count": 12,
   "metadata": {},
   "outputs": [
    {
     "name": "stdout",
     "output_type": "stream",
     "text": [
      "3\n",
      "3.0\n",
      "11\n",
      "56\n"
     ]
    }
   ],
   "source": [
    "# int( )转整型、float( )转浮点型、str( )转字符型\n",
    "a = 3.1415926\n",
    "print(int(a)) #输出3\n",
    "b = 3\n",
    "print(float(b)) #输出3.0\n",
    "m = 5\n",
    "n = 6\n",
    "print(m+n) #输出11\n",
    "print(str(m)+str(n)) #先将变量转为字符，然后进行拼接"
   ]
  },
  {
   "cell_type": "markdown",
   "metadata": {},
   "source": [
    "七、数据类型转换"
   ]
  },
  {
   "cell_type": "code",
   "execution_count": 13,
   "metadata": {},
   "outputs": [
    {
     "name": "stdout",
     "output_type": "stream",
     "text": [
      "<class 'int'>\n",
      "<class 'float'>\n",
      "<class 'str'>\n"
     ]
    }
   ],
   "source": [
    "# type()实例\n",
    "a = 1\n",
    "b = 1.0\n",
    "c = \"1\"\n",
    "print(type(a)) # 整数类型\n",
    "print(type(b)) # 浮点数类型\n",
    "print(type(c)) # 字符串类型"
   ]
  },
  {
   "cell_type": "markdown",
   "metadata": {},
   "source": [
    "八、数学运算符"
   ]
  },
  {
   "cell_type": "code",
   "execution_count": 14,
   "metadata": {},
   "outputs": [
    {
     "name": "stdout",
     "output_type": "stream",
     "text": [
      "13\n",
      "7\n",
      "30\n",
      "5.0 2.5\n",
      "3\n",
      "1\n",
      "1000\n",
      "50\n"
     ]
    }
   ],
   "source": [
    "print(10+3) # 10+3=13\n",
    "print(10-3) # 10-3=7\n",
    "print(10*3) # 10*3=30\n",
    "print(10/2,5/2) # 10/2=5.0，5/2=2.5\n",
    "print(10//3) # 10除以3得3余1\n",
    "print(10%3) # 10除以3得3余1\n",
    "print(10**3) # 10的3次方等于1000\n",
    "print(10*(2+3)) # 先算加法"
   ]
  },
  {
   "cell_type": "markdown",
   "metadata": {},
   "source": [
    "九、复合运算符"
   ]
  },
  {
   "cell_type": "code",
   "execution_count": 15,
   "metadata": {},
   "outputs": [
    {
     "name": "stdout",
     "output_type": "stream",
     "text": [
      "7\n",
      "3\n",
      "10\n",
      "2.5\n",
      "2\n",
      "1\n",
      "25\n"
     ]
    }
   ],
   "source": [
    "a=5\n",
    "a+=2\n",
    "print(a) #等价于a=a+2\n",
    "a=5\n",
    "a-=2\n",
    "print(a) #等价于a=a-2\n",
    "a=5\n",
    "a*=2\n",
    "print(a) #等价于a=a*2\n",
    "a=5\n",
    "a/=2\n",
    "print(a) #等价于a=a/2\n",
    "a=5\n",
    "a//=2\n",
    "print(a) #等价于a=a//1\n",
    "a=5\n",
    "a%=2\n",
    "print(a) #等价于a=a%2\n",
    "a=5\n",
    "a**=2\n",
    "print(a) #等价于a=a**2"
   ]
  },
  {
   "cell_type": "markdown",
   "metadata": {},
   "source": [
    "十、比较运算符（也叫关系运算符）"
   ]
  },
  {
   "cell_type": "code",
   "execution_count": 16,
   "metadata": {},
   "outputs": [
    {
     "name": "stdout",
     "output_type": "stream",
     "text": [
      "False\n",
      "True\n",
      "True\n",
      "False\n",
      "False\n",
      "True\n",
      "True\n"
     ]
    }
   ],
   "source": [
    "a = 10\n",
    "b = 20\n",
    "c = 10\n",
    "print(a == b)\n",
    "print(a == c)\n",
    "print(a != b)\n",
    "print(a > b)\n",
    "print(b < c)\n",
    "print(a >= c)\n",
    "print(a <= c)"
   ]
  },
  {
   "cell_type": "markdown",
   "metadata": {},
   "source": [
    "十一、逻辑运算符"
   ]
  },
  {
   "cell_type": "code",
   "execution_count": 17,
   "metadata": {},
   "outputs": [
    {
     "name": "stdout",
     "output_type": "stream",
     "text": [
      "False\n",
      "True\n",
      "True\n",
      "True\n",
      "False\n"
     ]
    }
   ],
   "source": [
    "print(True and False)\n",
    "print(True and True)\n",
    "print(True or False)\n",
    "print(not False)\n",
    "print(not True)"
   ]
  },
  {
   "cell_type": "markdown",
   "metadata": {},
   "source": [
    "十二、目前所有接触过的优先级顺序"
   ]
  },
  {
   "cell_type": "code",
   "execution_count": 19,
   "metadata": {},
   "outputs": [
    {
     "data": {
      "text/plain": [
       "'\\n0.小括号 （）\\n1.幂运算（指数） **\\n2.正负号 +-\\n3.算术运算 *，/，//，%，+，- 先乘除后加减\\n4.比较运算 <，<=，>，>=，==，!=\\n5.逻辑运算 not、and、or 先not后and最后or'"
      ]
     },
     "execution_count": 19,
     "metadata": {},
     "output_type": "execute_result"
    }
   ],
   "source": [
    "'''\n",
    "0.小括号 （）\n",
    "1.幂运算（指数） **\n",
    "2.正负号 +-\n",
    "3.算术运算 *，/，//，%，+，- 先乘除后加减\n",
    "4.比较运算 <，<=，>，>=，==，!=\n",
    "5.逻辑运算 not、and、or 先not后and最后or'''"
   ]
  },
  {
   "cell_type": "code",
   "execution_count": null,
   "metadata": {},
   "outputs": [],
   "source": []
  }
 ],
 "metadata": {
  "kernelspec": {
   "display_name": "Python 3",
   "language": "python",
   "name": "python3"
  },
  "language_info": {
   "codemirror_mode": {
    "name": "ipython",
    "version": 3
   },
   "file_extension": ".py",
   "mimetype": "text/x-python",
   "name": "python",
   "nbconvert_exporter": "python",
   "pygments_lexer": "ipython3",
   "version": "3.7.6-final"
  }
 },
 "nbformat": 4,
 "nbformat_minor": 4
}
