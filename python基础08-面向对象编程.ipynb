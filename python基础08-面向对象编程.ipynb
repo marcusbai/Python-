{
 "cells": [
  {
   "cell_type": "code",
   "execution_count": 1,
   "id": "comprehensive-colorado",
   "metadata": {},
   "outputs": [],
   "source": [
    "class MyClass:\n",
    "    \"\"\"类的一个简单例子\"\"\"\n",
    "    i = 12345\n",
    "    def f(self):\n",
    "        return 'hello world'"
   ]
  },
  {
   "cell_type": "code",
   "execution_count": 5,
   "id": "destroyed-speech",
   "metadata": {},
   "outputs": [
    {
     "name": "stdout",
     "output_type": "stream",
     "text": [
      "12345\n",
      "<function MyClass.f at 0x10868b790>\n",
      "类的一个简单例子\n"
     ]
    }
   ],
   "source": [
    "print(MyClass.i)\n",
    "print(MyClass.f)\n",
    "print(MyClass.__doc__)"
   ]
  },
  {
   "cell_type": "code",
   "execution_count": 9,
   "id": "pointed-aruba",
   "metadata": {},
   "outputs": [
    {
     "name": "stdout",
     "output_type": "stream",
     "text": [
      "3.0 -4.5\n"
     ]
    }
   ],
   "source": [
    "class Complex:\n",
    "    def __init__(self, realpart, imagpart):\n",
    "        self.r = realpart\n",
    "        self.i = imagpart\n",
    "        \n",
    "y = Complex(3.0, -4.5)\n",
    "print(y.r,y.i)"
   ]
  },
  {
   "cell_type": "code",
   "execution_count": 17,
   "id": "associate-disabled",
   "metadata": {},
   "outputs": [
    {
     "data": {
      "text/plain": [
       "'hello world'"
      ]
     },
     "execution_count": 17,
     "metadata": {},
     "output_type": "execute_result"
    }
   ],
   "source": [
    "x = MyClass()\n",
    "x.f()"
   ]
  },
  {
   "cell_type": "code",
   "execution_count": 18,
   "id": "quick-tiffany",
   "metadata": {},
   "outputs": [
    {
     "data": {
      "text/plain": [
       "'hello world'"
      ]
     },
     "execution_count": 18,
     "metadata": {},
     "output_type": "execute_result"
    }
   ],
   "source": [
    "xf=x.f\n",
    "xf()"
   ]
  },
  {
   "cell_type": "code",
   "execution_count": 19,
   "id": "economic-webmaster",
   "metadata": {},
   "outputs": [],
   "source": [
    "class Warehouse:\n",
    "    purpose = 'storage'\n",
    "    region = 'west'"
   ]
  },
  {
   "cell_type": "code",
   "execution_count": 20,
   "id": "genuine-elevation",
   "metadata": {},
   "outputs": [
    {
     "name": "stdout",
     "output_type": "stream",
     "text": [
      "storage west\n"
     ]
    }
   ],
   "source": [
    "w1 = Warehouse()\n",
    "print(w1.purpose, w1.region)"
   ]
  },
  {
   "cell_type": "code",
   "execution_count": 21,
   "id": "optimum-mainstream",
   "metadata": {},
   "outputs": [
    {
     "name": "stdout",
     "output_type": "stream",
     "text": [
      "storage east\n"
     ]
    }
   ],
   "source": [
    "w2 = Warehouse()\n",
    "w2.region = 'east'\n",
    "print(w2.purpose, w2.region)"
   ]
  },
  {
   "cell_type": "code",
   "execution_count": 22,
   "id": "realistic-cream",
   "metadata": {},
   "outputs": [],
   "source": [
    "class Animal(object):\n",
    "    def run(self):\n",
    "        print('动物在奔跑')"
   ]
  },
  {
   "cell_type": "code",
   "execution_count": 27,
   "id": "corporate-lightweight",
   "metadata": {},
   "outputs": [
    {
     "name": "stdout",
     "output_type": "stream",
     "text": [
      "动物在奔跑\n"
     ]
    }
   ],
   "source": [
    "class Dog(Animal):\n",
    "    pass\n",
    "c = Dog()\n",
    "c.run()"
   ]
  },
  {
   "cell_type": "code",
   "execution_count": 24,
   "id": "equivalent-greenhouse",
   "metadata": {},
   "outputs": [],
   "source": [
    "class Dog(Animal):\n",
    "    def run(self):\n",
    "        print('🐶 在奔跑...')\n",
    "    def eat(self):\n",
    "        print('🐶 在吃肉...')"
   ]
  },
  {
   "cell_type": "code",
   "execution_count": 25,
   "id": "vital-broadcast",
   "metadata": {},
   "outputs": [
    {
     "name": "stdout",
     "output_type": "stream",
     "text": [
      "🐶 在奔跑...\n"
     ]
    }
   ],
   "source": [
    "c = Dog()\n",
    "c.run()"
   ]
  },
  {
   "cell_type": "code",
   "execution_count": 26,
   "id": "remarkable-tourism",
   "metadata": {},
   "outputs": [
    {
     "name": "stdout",
     "output_type": "stream",
     "text": [
      "🐶 在吃肉...\n"
     ]
    }
   ],
   "source": [
    "c.eat()"
   ]
  },
  {
   "cell_type": "code",
   "execution_count": null,
   "id": "recovered-rogers",
   "metadata": {},
   "outputs": [],
   "source": []
  }
 ],
 "metadata": {
  "kernelspec": {
   "display_name": "Python 3",
   "language": "python",
   "name": "python3"
  },
  "language_info": {
   "codemirror_mode": {
    "name": "ipython",
    "version": 3
   },
   "file_extension": ".py",
   "mimetype": "text/x-python",
   "name": "python",
   "nbconvert_exporter": "python",
   "pygments_lexer": "ipython3",
   "version": "3.9.1"
  }
 },
 "nbformat": 4,
 "nbformat_minor": 5
}
