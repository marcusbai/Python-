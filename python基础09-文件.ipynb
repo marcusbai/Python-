{
 "cells": [
  {
   "cell_type": "code",
   "execution_count": 12,
   "id": "billion-placement",
   "metadata": {},
   "outputs": [
    {
     "data": {
      "text/plain": [
       "'《登鹳雀楼》\\n唐代王之涣\\n白日依山尽，黄河入海流。\\n欲穷千里目，更上一层楼。这是一条多余的信息这是一条多余的信息这是一条测试信息这是一条测试信息'"
      ]
     },
     "execution_count": 12,
     "metadata": {},
     "output_type": "execute_result"
    }
   ],
   "source": [
    "f = open('demo.txt')\n",
    "f.read()"
   ]
  },
  {
   "cell_type": "code",
   "execution_count": 13,
   "id": "ecological-character",
   "metadata": {},
   "outputs": [],
   "source": [
    "f.close()"
   ]
  },
  {
   "cell_type": "code",
   "execution_count": 18,
   "id": "consistent-corruption",
   "metadata": {},
   "outputs": [],
   "source": [
    "f = open('demo.txt',mode='a')\n",
    "f.write('这是一条测试信息')\n",
    "f.close()"
   ]
  },
  {
   "cell_type": "code",
   "execution_count": 22,
   "id": "graduate-development",
   "metadata": {},
   "outputs": [],
   "source": [
    "with open('demo.txt') as f:\n",
    "    f.read(6)"
   ]
  },
  {
   "cell_type": "code",
   "execution_count": null,
   "id": "maritime-chester",
   "metadata": {},
   "outputs": [],
   "source": [
    "with open('demo.txt') as f:\n",
    "    f.tell"
   ]
  }
 ],
 "metadata": {
  "kernelspec": {
   "display_name": "Python 3",
   "language": "python",
   "name": "python3"
  },
  "language_info": {
   "codemirror_mode": {
    "name": "ipython",
    "version": 3
   },
   "file_extension": ".py",
   "mimetype": "text/x-python",
   "name": "python",
   "nbconvert_exporter": "python",
   "pygments_lexer": "ipython3",
   "version": "3.9.1"
  }
 },
 "nbformat": 4,
 "nbformat_minor": 5
}
