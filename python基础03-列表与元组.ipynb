{
 "cells": [
  {
   "cell_type": "markdown",
   "metadata": {},
   "source": [
    "列表的创建"
   ]
  },
  {
   "cell_type": "code",
   "execution_count": 1,
   "metadata": {},
   "outputs": [],
   "source": [
    "a = [] # 空列表\n",
    "b = ['孙悟空'] # 单个值\n",
    "c = ['郭靖','黄蓉','洪七公','黄药师','周伯通'] # 多个值\n",
    "d = '小桃无主自开花，烟草茫茫带晚鸦。几处败垣围故井，向来一一是人家。'\n",
    "e = list(d) # 将字符串转为列表"
   ]
  },
  {
   "cell_type": "markdown",
   "metadata": {},
   "source": [
    "访问列表里的值"
   ]
  },
  {
   "cell_type": "code",
   "execution_count": 3,
   "metadata": {},
   "outputs": [],
   "source": [
    "s = ['郭靖','黄蓉','洪七公','黄药师','周伯通']\n",
    "s[1:3] # 获取下标1到3（不含）的值\n",
    "s[1:] # 获取下标1到末尾的值\n",
    "s[-3:] # 获取倒数3个值\n",
    "s[:3] # 获取从头开始到下标为3（不含）的值\n",
    "s[:-1] # 获取从头开始到下标为-1（不含）的值\n",
    "s[-1:-4:-1] # 获取从下标为-1到-4（不含）的值，反向输出\n",
    "s[-4:-1] # 获取从下标为-4到-1（不含）的值，正向输出"
   ]
  },
  {
   "cell_type": "markdown",
   "metadata": {},
   "source": [
    "修改、添加和删除列表元素"
   ]
  },
  {
   "cell_type": "code",
   "execution_count": 4,
   "metadata": {},
   "outputs": [
    {
     "name": "stdout",
     "output_type": "stream",
     "text": [
      "['郭靖', '黄蓉', '洪七公', '黄药师', '老顽童']\n"
     ]
    }
   ],
   "source": [
    "s = ['郭靖','黄蓉','洪七公','黄药师','周伯通']\n",
    "s[-1] = \"老顽童\"\n",
    "print(s)"
   ]
  },
  {
   "cell_type": "code",
   "execution_count": 8,
   "metadata": {},
   "outputs": [],
   "source": [
    "s = ['郭靖','黄蓉','洪七公','黄药师','周伯通']\n",
    "s.append(\"铁木真\")\n",
    "n = ['柯镇恶','朱聪','韩宝驹','南希仁','张阿生','全金发','韩小莹']\n",
    "s.extend(n)"
   ]
  },
  {
   "cell_type": "code",
   "execution_count": 9,
   "metadata": {},
   "outputs": [],
   "source": [
    "s = ['郭靖','黄蓉','洪七公','黄药师','周伯通']\n",
    "s.insert(0,'梅超风') # 在下标为0的位置插入值"
   ]
  },
  {
   "cell_type": "code",
   "execution_count": 11,
   "metadata": {},
   "outputs": [],
   "source": [
    "s = ['梅超风', '郭靖', '黄蓉', '洪七公', '黄药师', '周伯通']\n",
    "del s[0]"
   ]
  },
  {
   "cell_type": "code",
   "execution_count": 12,
   "metadata": {},
   "outputs": [
    {
     "name": "stdout",
     "output_type": "stream",
     "text": [
      "周伯通\n",
      "梅超风\n"
     ]
    }
   ],
   "source": [
    "s = ['梅超风', '郭靖', '黄蓉', '洪七公', '黄药师', '周伯通']\n",
    "print(s.pop()) # 默认删除最后的值并获取该值\n",
    "print(s.pop(0)) # 指定删除下标为0的值\n",
    "s = ['梅超风', '郭靖', '黄蓉', '洪七公', '黄药师', '周伯通']\n",
    "s.remove('梅超风')"
   ]
  },
  {
   "cell_type": "markdown",
   "metadata": {},
   "source": [
    "对列表的操作"
   ]
  },
  {
   "cell_type": "code",
   "execution_count": 13,
   "metadata": {},
   "outputs": [
    {
     "data": {
      "text/plain": [
       "['audi', 'bmw', 'mazda', 'subaru', 'toyota']"
      ]
     },
     "execution_count": 13,
     "metadata": {},
     "output_type": "execute_result"
    }
   ],
   "source": [
    "cars = ['bmw','audi','toyota','subaru','mazda']\n",
    "cars.sort()\n",
    "sorted(cars)"
   ]
  },
  {
   "cell_type": "code",
   "execution_count": 14,
   "metadata": {},
   "outputs": [],
   "source": [
    "s = ['梅超风', '郭靖', '黄蓉', '洪七公', '黄药师', '周伯通']\n",
    "s.reverse()"
   ]
  },
  {
   "cell_type": "code",
   "execution_count": 15,
   "metadata": {},
   "outputs": [],
   "source": [
    "s = ['梅超风', '郭靖', '黄蓉', '洪七公', '黄药师', '周伯通']\n",
    "n = s[:]"
   ]
  },
  {
   "cell_type": "markdown",
   "metadata": {},
   "source": [
    "列表的遍历"
   ]
  },
  {
   "cell_type": "code",
   "execution_count": 18,
   "metadata": {},
   "outputs": [
    {
     "name": "stdout",
     "output_type": "stream",
     "text": [
      "我是江南七侠中的柯镇恶\n",
      "我是江南七侠中的朱聪\n",
      "我是江南七侠中的韩宝驹\n",
      "我是江南七侠中的南希仁\n",
      "我是江南七侠中的张阿生\n",
      "我是江南七侠中的全金发\n",
      "我是江南七侠中的韩小莹\n",
      "介绍完毕！\n"
     ]
    }
   ],
   "source": [
    "n = ['柯镇恶','朱聪','韩宝驹','南希仁','张阿生','全金发','韩小莹']\n",
    "for i in n: # i为变量名，列表中的值依次赋值给i\n",
    "    print(f'我是江南七侠中的{i}') # 缩进的代码块会依次执行\n",
    "print('介绍完毕！') # 未缩进的代码会在for循环执行结束执行"
   ]
  },
  {
   "cell_type": "markdown",
   "metadata": {},
   "source": [
    "数值列表的创建"
   ]
  },
  {
   "cell_type": "code",
   "execution_count": 19,
   "metadata": {},
   "outputs": [
    {
     "name": "stdout",
     "output_type": "stream",
     "text": [
      "1\n",
      "2\n",
      "3\n",
      "4\n",
      "5\n",
      "6\n",
      "7\n",
      "8\n",
      "9\n"
     ]
    }
   ],
   "source": [
    "for i in range(1,10):\n",
    "    print (i)"
   ]
  },
  {
   "cell_type": "code",
   "execution_count": 23,
   "metadata": {},
   "outputs": [
    {
     "name": "stdout",
     "output_type": "stream",
     "text": [
      "1\n",
      "4\n",
      "7\n"
     ]
    }
   ],
   "source": [
    "for i in range(1,10,3):\n",
    "    print (i)"
   ]
  },
  {
   "cell_type": "code",
   "execution_count": 25,
   "metadata": {},
   "outputs": [
    {
     "data": {
      "text/plain": [
       "[1, 2, 3, 4, 5, 6, 7, 8, 9]"
      ]
     },
     "execution_count": 25,
     "metadata": {},
     "output_type": "execute_result"
    }
   ],
   "source": [
    "a = list(range(1,10))\n",
    "a"
   ]
  },
  {
   "cell_type": "markdown",
   "metadata": {},
   "source": [
    "元组"
   ]
  },
  {
   "cell_type": "markdown",
   "metadata": {},
   "source": [
    "创建元组"
   ]
  },
  {
   "cell_type": "code",
   "execution_count": 27,
   "metadata": {},
   "outputs": [],
   "source": [
    "a = () # 空元组"
   ]
  },
  {
   "cell_type": "code",
   "execution_count": 28,
   "metadata": {},
   "outputs": [],
   "source": [
    "a = '张无忌',\n",
    "b = ('张无忌',)\n",
    "c = '张无忌'\n",
    "d = ('张无忌')"
   ]
  },
  {
   "cell_type": "code",
   "execution_count": 29,
   "metadata": {},
   "outputs": [
    {
     "data": {
      "text/plain": [
       "tuple"
      ]
     },
     "execution_count": 29,
     "metadata": {},
     "output_type": "execute_result"
    }
   ],
   "source": [
    "n = ('柯镇恶','朱聪','韩宝驹','南希仁','张阿生','全金发','韩小莹')\n",
    "type(n)"
   ]
  },
  {
   "cell_type": "code",
   "execution_count": null,
   "metadata": {},
   "outputs": [],
   "source": []
  }
 ],
 "metadata": {
  "kernelspec": {
   "display_name": "Python 3",
   "language": "python",
   "name": "python3"
  },
  "language_info": {
   "codemirror_mode": {
    "name": "ipython",
    "version": 3
   },
   "file_extension": ".py",
   "mimetype": "text/x-python",
   "name": "python",
   "nbconvert_exporter": "python",
   "pygments_lexer": "ipython3",
   "version": "3.8.5"
  }
 },
 "nbformat": 4,
 "nbformat_minor": 4
}
